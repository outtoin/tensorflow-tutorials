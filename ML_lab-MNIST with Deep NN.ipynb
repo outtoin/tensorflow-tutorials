{
 "cells": [
  {
   "cell_type": "code",
   "execution_count": 60,
   "metadata": {
    "collapsed": true
   },
   "outputs": [],
   "source": [
    "import tensorflow as tf\n",
    "import numpy as np\n",
    "\n",
    "from tensorflow.examples.tutorials.mnist import input_data"
   ]
  },
  {
   "cell_type": "code",
   "execution_count": 102,
   "metadata": {},
   "outputs": [
    {
     "name": "stdout",
     "output_type": "stream",
     "text": [
      "Extracting MNIST_data/train-images-idx3-ubyte.gz\n",
      "Extracting MNIST_data/train-labels-idx1-ubyte.gz\n",
      "Extracting MNIST_data/t10k-images-idx3-ubyte.gz\n",
      "Extracting MNIST_data/t10k-labels-idx1-ubyte.gz\n"
     ]
    }
   ],
   "source": [
    "nb_classes = 10\n",
    "\n",
    "mnist = input_data.read_data_sets(\"MNIST_data/\", one_hot=True)\n",
    "\n",
    "X = tf.placeholder(tf.float32, [None, 784])\n",
    "Y = tf.placeholder(tf.float32, [None, nb_classes])\n",
    "W = tf.Variable(tf.random_normal([784, nb_classes]))\n",
    "b = tf.Variable(tf.random_normal([nb_classes]))\n",
    "\n",
    "W_hist = tf.summary.histogram(\"weight\", W)\n",
    "b_hist = tf.summary.histogram(\"bias\", b)\n",
    "\n",
    "logits = tf.matmul(X, W) + b\n",
    "hypothesis = tf.nn.softmax(logits)\n",
    "\n",
    "hypothesis_hist = tf.summary.histogram(\"hypothesis\", hypothesis)\n",
    "\n",
    "cost_i = tf.nn.softmax_cross_entropy_with_logits(logits=logits, \n",
    "                                                labels=Y)\n",
    "cost = tf.reduce_mean(cost_i)\n",
    "cost_summ = tf.summary.scalar(\"cost\", cost)\n",
    "\n",
    "optimizer = tf.train.GradientDescentOptimizer(learning_rate=0.1).minimize(cost)\n",
    "\n",
    "is_correct = tf.equal(tf.arg_max(hypothesis, 1), tf.arg_max(Y, 1))\n",
    "\n",
    "accuracy = tf.reduce_mean(tf.cast(is_correct, tf.float32))\n",
    "acc_summ = tf.summary.scalar(\"accuracy\", accuracy)"
   ]
  },
  {
   "cell_type": "code",
   "execution_count": 103,
   "metadata": {},
   "outputs": [
    {
     "name": "stdout",
     "output_type": "stream",
     "text": [
      "Epoch:  0001 \tcost =  2.749032 \taccuracy : 0.730000019\n",
      "Epoch:  0011 \tcost =  0.525497 \taccuracy : 0.889999986\n",
      "Epoch:  0021 \tcost =  0.424241 \taccuracy : 0.970000029\n",
      "Epoch:  0031 \tcost =  0.377266 \taccuracy : 0.870000005\n",
      "Epoch:  0041 \tcost =  0.348691 \taccuracy : 0.949999988\n",
      "Epoch:  0051 \tcost =  0.328876 \taccuracy : 0.910000026\n",
      "Epoch:  0061 \tcost =  0.314175 \taccuracy : 0.949999988\n",
      "Epoch:  0071 \tcost =  0.302689 \taccuracy : 0.939999998\n",
      "Epoch:  0081 \tcost =  0.293930 \taccuracy : 0.879999995\n",
      "Epoch:  0091 \tcost =  0.286744 \taccuracy : 0.879999995\n",
      "Epoch:  0101 \tcost =  0.280727 \taccuracy : 0.970000029\n",
      "Epoch:  0111 \tcost =  0.275594 \taccuracy : 0.920000017\n",
      "Epoch:  0121 \tcost =  0.271332 \taccuracy : 0.939999998\n",
      "Epoch:  0131 \tcost =  0.267481 \taccuracy : 0.939999998\n",
      "Epoch:  0141 \tcost =  0.264232 \taccuracy : 0.920000017\n"
     ]
    }
   ],
   "source": [
    "training_epochs = 150\n",
    "batch_size = 100\n",
    "\n",
    "writer = tf.summary.FileWriter('./logs/MNIST_ML')\n",
    "\n",
    "sess = tf.Session()\n",
    "\n",
    "writer.add_graph(sess.graph)\n",
    "sess.run(tf.global_variables_initializer())\n",
    "# tf.reset_default_graph()\n",
    "summary = tf.summary.merge([cost_summ, w_hist,])\n",
    "\n",
    "global_step = 1\n",
    "for epoch in range(training_epochs):\n",
    "    avg_cost = 0\n",
    "    total_batch = int(mnist.train.num_examples / batch_size)\n",
    "    \n",
    "    for i in range(total_batch):\n",
    "        xs, ys = mnist.train.next_batch(batch_size)\n",
    "        c, a, s, _ = sess.run([cost, accuracy, summary, optimizer], feed_dict={X: xs, Y: ys})\n",
    "        avg_cost += c / total_batch\n",
    "        writer.add_summary(s, global_step=global_step)\n",
    "        global_step += 1\n",
    "    \n",
    "    if epoch % 10 == 0:\n",
    "        print('Epoch: ', '%04d' % (epoch + 1), '\\tcost = ', '{:.6f}'.format(avg_cost), '\\taccuracy :', '{:.9f}'.format(a))"
   ]
  },
  {
   "cell_type": "code",
   "execution_count": 104,
   "metadata": {},
   "outputs": [
    {
     "name": "stdout",
     "output_type": "stream",
     "text": [
      "Accuracy:  0.9207\n"
     ]
    }
   ],
   "source": [
    "print(\"Accuracy: \", accuracy.eval(session=sess,\n",
    "                                 feed_dict={X: mnist.test.images, Y: mnist.test.labels}))"
   ]
  },
  {
   "cell_type": "code",
   "execution_count": 105,
   "metadata": {},
   "outputs": [
    {
     "name": "stdout",
     "output_type": "stream",
     "text": [
      "Label:  [6]\n",
      "Prediction:  [6]\n",
      "Result:  [ True]\n"
     ]
    },
    {
     "data": {
      "image/png": "[encoded data removed]",
      "text/plain": [
       "<matplotlib.figure.Figure at 0x1186abfd0>"
      ]
     },
     "metadata": {},
     "output_type": "display_data"
    }
   ],
   "source": [
    "import matplotlib.pyplot as plt\n",
    "import random\n",
    "\n",
    "r = random.randint(0, mnist.test.num_examples - 1)\n",
    "print(\"Label: \", sess.run(tf.argmax(mnist.test.labels[r:r+1], 1)))\n",
    "print(\"Prediction: \", sess.run(tf.argmax(hypothesis, 1),\n",
    "                              feed_dict={X: mnist.test.images[r:r+1]}))\n",
    "print(\"Result: \", sess.run(tf.equal(sess.run(tf.argmax(mnist.test.labels[r:r+1], 1)), sess.run(tf.argmax(hypothesis, 1),\n",
    "                              feed_dict={X: mnist.test.images[r:r+1]}))))\n",
    "plt.imshow(mnist.test.images[r:r+1].reshape(28, 28), cmap='Greys', interpolation='nearest')\n",
    "plt.show()"
   ]
  },
  {
   "cell_type": "code",
   "execution_count": 10,
   "metadata": {},
   "outputs": [
    {
     "name": "stdout",
     "output_type": "stream",
     "text": [
      "Extracting MNIST_data/train-images-idx3-ubyte.gz\n",
      "Extracting MNIST_data/train-labels-idx1-ubyte.gz\n",
      "Extracting MNIST_data/t10k-images-idx3-ubyte.gz\n",
      "Extracting MNIST_data/t10k-labels-idx1-ubyte.gz\n"
     ]
    }
   ],
   "source": [
    "nb_classes = 10\n",
    "neurons = 10\n",
    "\n",
    "mnist = input_data.read_data_sets(\"MNIST_data/\", one_hot=True)\n",
    "\n",
    "X = tf.placeholder(tf.float32, [None, 784])\n",
    "Y = tf.placeholder(tf.float32, [None, nb_classes])\n",
    "\n",
    "W1 = tf.Variable(tf.random_normal([784, neurons]), name='weight1')\n",
    "b1 = tf.Variable(tf.random_normal([neurons]), name='bias1')\n",
    "logits1 = tf.matmul(X, W1) + b1\n",
    "layer1 = tf.nn.softmax(logits1)\n",
    "\n",
    "W1_hist = tf.summary.histogram(\"W1\", W1)\n",
    "b1_hist = tf.summary.histogram(\"b1\", b1)\n",
    "layer1_hist = tf.summary.histogram(\"layer1\", layer1)\n",
    "\n",
    "W2 = tf.Variable(tf.random_normal([neurons, neurons]), name='weight2')\n",
    "b2 = tf.Variable(tf.random_normal([neurons]), name='bias3')\n",
    "logits2 = tf.matmul(layer1, W2) + b2\n",
    "layer2 = tf.nn.softmax(logits2)\n",
    "\n",
    "W2_hist = tf.summary.histogram(\"W2\", W2)\n",
    "b2_hist = tf.summary.histogram(\"b2\", b2)\n",
    "layer2_hist = tf.summary.histogram(\"layer2\", layer2)\n",
    "\n",
    "W3 = tf.Variable(tf.random_normal([neurons, neurons]), name='weight3')\n",
    "b3 = tf.Variable(tf.random_normal([neurons]), name='bias3')\n",
    "logits3 = tf.matmul(layer2, W3) + b3\n",
    "layer3 = tf.nn.softmax(logits3)\n",
    "\n",
    "W1_hist = tf.summary.histogram(\"W3\", W3)\n",
    "b1_hist = tf.summary.histogram(\"b3\", b3)\n",
    "layer1_hist = tf.summary.histogram(\"layer3\", layer3)\n",
    "\n",
    "W4 = tf.Variable(tf.random_normal([neurons, nb_classes]), name='weight4')\n",
    "b4 = tf.Variable(tf.random_normal([nb_classes]), name='bias4')\n",
    "\n",
    "logits4 = tf.matmul(layer3, W4) + b4\n",
    "hypothesis = tf.nn.softmax(logits4)\n",
    "\n",
    "W4_hist = tf.summary.histogram(\"W4\", W4)\n",
    "b4_hist = tf.summary.histogram(\"b4\", b4)\n",
    "hypothesis_hist = tf.summary.histogram(\"hypothesis\", hypothesis)\n",
    "\n",
    "cost_i = tf.nn.softmax_cross_entropy_with_logits(logits=logits4, \n",
    "                                                labels=Y)\n",
    "cost = tf.reduce_mean(cost_i)\n",
    "\n",
    "cost_summ = tf.summary.scalar(\"cost\", cost)\n",
    "\n",
    "optimizer = tf.train.GradientDescentOptimizer(learning_rate=0.1).minimize(cost)\n",
    "\n",
    "is_correct = tf.equal(tf.arg_max(hypothesis, 1), tf.arg_max(Y, 1))\n",
    "\n",
    "accuracy = tf.reduce_mean(tf.cast(is_correct, tf.float32))"
   ]
  },
  {
   "cell_type": "code",
   "execution_count": 21,
   "metadata": {},
   "outputs": [
    {
     "name": "stdout",
     "output_type": "stream",
     "text": [
      "Epoch:  0001 \tcost =  2.529995067\n"
     ]
    },
    {
     "ename": "KeyboardInterrupt",
     "evalue": "",
     "output_type": "error",
     "traceback": [
      "\u001b[0;31m---------------------------------------------------------------------------\u001b[0m",
      "\u001b[0;31mKeyboardInterrupt\u001b[0m                         Traceback (most recent call last)",
      "\u001b[0;32m<ipython-input-21-98d0e0438b71>\u001b[0m in \u001b[0;36m<module>\u001b[0;34m()\u001b[0m\n\u001b[1;32m     11\u001b[0m     \u001b[0;32mfor\u001b[0m \u001b[0mi\u001b[0m \u001b[0;32min\u001b[0m \u001b[0mrange\u001b[0m\u001b[0;34m(\u001b[0m\u001b[0mtotal_batch\u001b[0m\u001b[0;34m)\u001b[0m\u001b[0;34m:\u001b[0m\u001b[0;34m\u001b[0m\u001b[0m\n\u001b[1;32m     12\u001b[0m         \u001b[0mbatch_xs\u001b[0m\u001b[0;34m,\u001b[0m \u001b[0mbatch_ys\u001b[0m \u001b[0;34m=\u001b[0m \u001b[0mmnist\u001b[0m\u001b[0;34m.\u001b[0m\u001b[0mtrain\u001b[0m\u001b[0;34m.\u001b[0m\u001b[0mnext_batch\u001b[0m\u001b[0;34m(\u001b[0m\u001b[0mbatch_size\u001b[0m\u001b[0;34m)\u001b[0m\u001b[0;34m\u001b[0m\u001b[0m\n\u001b[0;32m---> 13\u001b[0;31m         \u001b[0mc\u001b[0m\u001b[0;34m,\u001b[0m \u001b[0m_\u001b[0m \u001b[0;34m=\u001b[0m \u001b[0msess\u001b[0m\u001b[0;34m.\u001b[0m\u001b[0mrun\u001b[0m\u001b[0;34m(\u001b[0m\u001b[0;34m[\u001b[0m\u001b[0mcost\u001b[0m\u001b[0;34m,\u001b[0m \u001b[0moptimizer\u001b[0m\u001b[0;34m]\u001b[0m\u001b[0;34m,\u001b[0m \u001b[0mfeed_dict\u001b[0m\u001b[0;34m=\u001b[0m\u001b[0;34m{\u001b[0m\u001b[0mX\u001b[0m\u001b[0;34m:\u001b[0m \u001b[0mbatch_xs\u001b[0m\u001b[0;34m,\u001b[0m \u001b[0mY\u001b[0m\u001b[0;34m:\u001b[0m \u001b[0mbatch_ys\u001b[0m\u001b[0;34m}\u001b[0m\u001b[0;34m)\u001b[0m\u001b[0;34m\u001b[0m\u001b[0m\n\u001b[0m\u001b[1;32m     14\u001b[0m         \u001b[0mavg_cost\u001b[0m \u001b[0;34m+=\u001b[0m \u001b[0mc\u001b[0m \u001b[0;34m/\u001b[0m \u001b[0mtotal_batch\u001b[0m\u001b[0;34m\u001b[0m\u001b[0m\n\u001b[1;32m     15\u001b[0m \u001b[0;34m\u001b[0m\u001b[0m\n",
      "\u001b[0;32m~/.pyenv/versions/3.6.1/lib/python3.6/site-packages/tensorflow/python/client/session.py\u001b[0m in \u001b[0;36mrun\u001b[0;34m(self, fetches, feed_dict, options, run_metadata)\u001b[0m\n\u001b[1;32m    787\u001b[0m     \u001b[0;32mtry\u001b[0m\u001b[0;34m:\u001b[0m\u001b[0;34m\u001b[0m\u001b[0m\n\u001b[1;32m    788\u001b[0m       result = self._run(None, fetches, feed_dict, options_ptr,\n\u001b[0;32m--> 789\u001b[0;31m                          run_metadata_ptr)\n\u001b[0m\u001b[1;32m    790\u001b[0m       \u001b[0;32mif\u001b[0m \u001b[0mrun_metadata\u001b[0m\u001b[0;34m:\u001b[0m\u001b[0;34m\u001b[0m\u001b[0m\n\u001b[1;32m    791\u001b[0m         \u001b[0mproto_data\u001b[0m \u001b[0;34m=\u001b[0m \u001b[0mtf_session\u001b[0m\u001b[0;34m.\u001b[0m\u001b[0mTF_GetBuffer\u001b[0m\u001b[0;34m(\u001b[0m\u001b[0mrun_metadata_ptr\u001b[0m\u001b[0;34m)\u001b[0m\u001b[0;34m\u001b[0m\u001b[0m\n",
      "\u001b[0;32m~/.pyenv/versions/3.6.1/lib/python3.6/site-packages/tensorflow/python/client/session.py\u001b[0m in \u001b[0;36m_run\u001b[0;34m(self, handle, fetches, feed_dict, options, run_metadata)\u001b[0m\n\u001b[1;32m    995\u001b[0m     \u001b[0;32mif\u001b[0m \u001b[0mfinal_fetches\u001b[0m \u001b[0;32mor\u001b[0m \u001b[0mfinal_targets\u001b[0m\u001b[0;34m:\u001b[0m\u001b[0;34m\u001b[0m\u001b[0m\n\u001b[1;32m    996\u001b[0m       results = self._do_run(handle, final_targets, final_fetches,\n\u001b[0;32m--> 997\u001b[0;31m                              feed_dict_string, options, run_metadata)\n\u001b[0m\u001b[1;32m    998\u001b[0m     \u001b[0;32melse\u001b[0m\u001b[0;34m:\u001b[0m\u001b[0;34m\u001b[0m\u001b[0m\n\u001b[1;32m    999\u001b[0m       \u001b[0mresults\u001b[0m \u001b[0;34m=\u001b[0m \u001b[0;34m[\u001b[0m\u001b[0;34m]\u001b[0m\u001b[0;34m\u001b[0m\u001b[0m\n",
      "\u001b[0;32m~/.pyenv/versions/3.6.1/lib/python3.6/site-packages/tensorflow/python/client/session.py\u001b[0m in \u001b[0;36m_do_run\u001b[0;34m(self, handle, target_list, fetch_list, feed_dict, options, run_metadata)\u001b[0m\n\u001b[1;32m   1130\u001b[0m     \u001b[0;32mif\u001b[0m \u001b[0mhandle\u001b[0m \u001b[0;32mis\u001b[0m \u001b[0;32mNone\u001b[0m\u001b[0;34m:\u001b[0m\u001b[0;34m\u001b[0m\u001b[0m\n\u001b[1;32m   1131\u001b[0m       return self._do_call(_run_fn, self._session, feed_dict, fetch_list,\n\u001b[0;32m-> 1132\u001b[0;31m                            target_list, options, run_metadata)\n\u001b[0m\u001b[1;32m   1133\u001b[0m     \u001b[0;32melse\u001b[0m\u001b[0;34m:\u001b[0m\u001b[0;34m\u001b[0m\u001b[0m\n\u001b[1;32m   1134\u001b[0m       return self._do_call(_prun_fn, self._session, handle, feed_dict,\n",
      "\u001b[0;32m~/.pyenv/versions/3.6.1/lib/python3.6/site-packages/tensorflow/python/client/session.py\u001b[0m in \u001b[0;36m_do_call\u001b[0;34m(self, fn, *args)\u001b[0m\n\u001b[1;32m   1137\u001b[0m   \u001b[0;32mdef\u001b[0m \u001b[0m_do_call\u001b[0m\u001b[0;34m(\u001b[0m\u001b[0mself\u001b[0m\u001b[0;34m,\u001b[0m \u001b[0mfn\u001b[0m\u001b[0;34m,\u001b[0m \u001b[0;34m*\u001b[0m\u001b[0margs\u001b[0m\u001b[0;34m)\u001b[0m\u001b[0;34m:\u001b[0m\u001b[0;34m\u001b[0m\u001b[0m\n\u001b[1;32m   1138\u001b[0m     \u001b[0;32mtry\u001b[0m\u001b[0;34m:\u001b[0m\u001b[0;34m\u001b[0m\u001b[0m\n\u001b[0;32m-> 1139\u001b[0;31m       \u001b[0;32mreturn\u001b[0m \u001b[0mfn\u001b[0m\u001b[0;34m(\u001b[0m\u001b[0;34m*\u001b[0m\u001b[0margs\u001b[0m\u001b[0;34m)\u001b[0m\u001b[0;34m\u001b[0m\u001b[0m\n\u001b[0m\u001b[1;32m   1140\u001b[0m     \u001b[0;32mexcept\u001b[0m \u001b[0merrors\u001b[0m\u001b[0;34m.\u001b[0m\u001b[0mOpError\u001b[0m \u001b[0;32mas\u001b[0m \u001b[0me\u001b[0m\u001b[0;34m:\u001b[0m\u001b[0;34m\u001b[0m\u001b[0m\n\u001b[1;32m   1141\u001b[0m       \u001b[0mmessage\u001b[0m \u001b[0;34m=\u001b[0m \u001b[0mcompat\u001b[0m\u001b[0;34m.\u001b[0m\u001b[0mas_text\u001b[0m\u001b[0;34m(\u001b[0m\u001b[0me\u001b[0m\u001b[0;34m.\u001b[0m\u001b[0mmessage\u001b[0m\u001b[0;34m)\u001b[0m\u001b[0;34m\u001b[0m\u001b[0m\n",
      "\u001b[0;32m~/.pyenv/versions/3.6.1/lib/python3.6/site-packages/tensorflow/python/client/session.py\u001b[0m in \u001b[0;36m_run_fn\u001b[0;34m(session, feed_dict, fetch_list, target_list, options, run_metadata)\u001b[0m\n\u001b[1;32m   1119\u001b[0m         return tf_session.TF_Run(session, options,\n\u001b[1;32m   1120\u001b[0m                                  \u001b[0mfeed_dict\u001b[0m\u001b[0;34m,\u001b[0m \u001b[0mfetch_list\u001b[0m\u001b[0;34m,\u001b[0m \u001b[0mtarget_list\u001b[0m\u001b[0;34m,\u001b[0m\u001b[0;34m\u001b[0m\u001b[0m\n\u001b[0;32m-> 1121\u001b[0;31m                                  status, run_metadata)\n\u001b[0m\u001b[1;32m   1122\u001b[0m \u001b[0;34m\u001b[0m\u001b[0m\n\u001b[1;32m   1123\u001b[0m     \u001b[0;32mdef\u001b[0m \u001b[0m_prun_fn\u001b[0m\u001b[0;34m(\u001b[0m\u001b[0msession\u001b[0m\u001b[0;34m,\u001b[0m \u001b[0mhandle\u001b[0m\u001b[0;34m,\u001b[0m \u001b[0mfeed_dict\u001b[0m\u001b[0;34m,\u001b[0m \u001b[0mfetch_list\u001b[0m\u001b[0;34m)\u001b[0m\u001b[0;34m:\u001b[0m\u001b[0;34m\u001b[0m\u001b[0m\n",
      "\u001b[0;31mKeyboardInterrupt\u001b[0m: "
     ]
    }
   ],
   "source": [
    "training_epochs = 150\n",
    "batch_size = 100\n",
    "\n",
    "merge()\n",
    "\n",
    "sess = tf.Session()\n",
    "sess.run(tf.global_variables_initializer())\n",
    "\n",
    "for epoch in range(training_epochs):\n",
    "    avg_cost = 0\n",
    "    total_batch = int(mnist.train.num_examples / batch_size)\n",
    "    \n",
    "    for i in range(total_batch):\n",
    "        batch_xs, batch_ys = mnist.train.next_batch(batch_size)\n",
    "        c, _ = sess.run([cost, optimizer], feed_dict={X: batch_xs, Y: batch_ys})\n",
    "        avg_cost += c / total_batch\n",
    "    \n",
    "    if epoch % 10 == 0:\n",
    "        print('Epoch: ', '%04d' % (epoch + 1), '\\tcost = ', '{:.9f}'.format(avg_cost))"
   ]
  },
  {
   "cell_type": "code",
   "execution_count": 12,
   "metadata": {},
   "outputs": [
    {
     "name": "stdout",
     "output_type": "stream",
     "text": [
      "Accuracy:  0.488\n"
     ]
    }
   ],
   "source": [
    "print(\"Accuracy: \", accuracy.eval(session=sess,\n",
    "                                 feed_dict={X: mnist.test.images, Y: mnist.test.labels}))"
   ]
  },
  {
   "cell_type": "code",
   "execution_count": 13,
   "metadata": {},
   "outputs": [
    {
     "name": "stdout",
     "output_type": "stream",
     "text": [
      "Label:  [3]\n",
      "Prediction:  [3]\n",
      "Result:  [ True]\n"
     ]
    },
    {
     "data": {
      "image/png": "[encoded data removed]",
      "text/plain": [
       "<matplotlib.figure.Figure at 0x11c158048>"
      ]
     },
     "metadata": {},
     "output_type": "display_data"
    }
   ],
   "source": [
    "import matplotlib.pyplot as plt\n",
    "import random\n",
    "\n",
    "r = random.randint(0, mnist.test.num_examples - 1)\n",
    "print(\"Label: \", sess.run(tf.argmax(mnist.test.labels[r:r+1], 1)))\n",
    "print(\"Prediction: \", sess.run(tf.argmax(hypothesis, 1),\n",
    "                              feed_dict={X: mnist.test.images[r:r+1]}))\n",
    "print(\"Result: \", sess.run(tf.equal(sess.run(tf.argmax(mnist.test.labels[r:r+1], 1)), sess.run(tf.argmax(hypothesis, 1),\n",
    "                              feed_dict={X: mnist.test.images[r:r+1]}))))\n",
    "plt.imshow(mnist.test.images[r:r+1].reshape(28, 28), cmap='Greys', interpolation='nearest')\n",
    "plt.show()"
   ]
  },
  {
   "cell_type": "markdown",
   "metadata": {},
   "source": [
    "### NN/Sigmoid"
   ]
  },
  {
   "cell_type": "code",
   "execution_count": 110,
   "metadata": {},
   "outputs": [
    {
     "name": "stdout",
     "output_type": "stream",
     "text": [
      "Extracting MNIST_data/train-images-idx3-ubyte.gz\n",
      "Extracting MNIST_data/train-labels-idx1-ubyte.gz\n",
      "Extracting MNIST_data/t10k-images-idx3-ubyte.gz\n",
      "Extracting MNIST_data/t10k-labels-idx1-ubyte.gz\n"
     ]
    }
   ],
   "source": [
    "nb_classes = 10\n",
    "neurons = 100\n",
    "\n",
    "mnist = input_data.read_data_sets(\"MNIST_data/\", one_hot=True)\n",
    "\n",
    "X = tf.placeholder(tf.float32, [None, 784])\n",
    "Y = tf.placeholder(tf.float32, [None, nb_classes])\n",
    "\n",
    "W1 = tf.Variable(tf.random_normal([784, neurons]), name='weight1')\n",
    "b1 = tf.Variable(tf.random_normal([neurons]), name='bias1')\n",
    "logits1 = tf.matmul(X, W1) + b1\n",
    "layer1 = tf.sigmoid(logits1)\n",
    "\n",
    "W2 = tf.Variable(tf.random_normal([neurons, neurons]), name='weight2')\n",
    "b2 = tf.Variable(tf.random_normal([neurons]), name='bias3')\n",
    "logits2 = tf.matmul(layer1, W2) + b2\n",
    "layer2 = tf.sigmoid(logits2)\n",
    "\n",
    "W3 = tf.Variable(tf.random_normal([neurons, neurons]), name='weight3')\n",
    "b3 = tf.Variable(tf.random_normal([neurons]), name='bias3')\n",
    "logits3 = tf.matmul(layer2, W3) + b3\n",
    "layer3 = tf.sigmoid(logits3)\n",
    "\n",
    "W4 = tf.Variable(tf.random_normal([neurons, nb_classes]), name='weight4')\n",
    "b4 = tf.Variable(tf.random_normal([nb_classes]), name='bias4')\n",
    "\n",
    "logits4 = tf.matmul(layer3, W4) + b4\n",
    "hypothesis = tf.nn.softmax(logits4)\n",
    "\n",
    "sig_W4_hist = tf.summary.histogram(\"W4\", W4)\n",
    "sig_b4_hist = tf.summary.histogram(\"b4\", b4)\n",
    "sig_hypothesis_hist = tf.summary.histogram(\"hypothesis\", hypothesis)\n",
    "\n",
    "cost_i = tf.nn.softmax_cross_entropy_with_logits(logits=logits4, \n",
    "                                                labels=Y)\n",
    "cost = tf.reduce_mean(cost_i)\n",
    "sig_cost_summ = tf.summary.scalar(\"cost\", cost)\n",
    "\n",
    "optimizer = tf.train.GradientDescentOptimizer(learning_rate=0.3).minimize(cost)\n",
    "\n",
    "is_correct = tf.equal(tf.arg_max(hypothesis, 1), tf.arg_max(Y, 1))\n",
    "\n",
    "accuracy = tf.reduce_mean(tf.cast(is_correct, tf.float32))"
   ]
  },
  {
   "cell_type": "code",
   "execution_count": 112,
   "metadata": {},
   "outputs": [
    {
     "name": "stdout",
     "output_type": "stream",
     "text": [
      "Epoch:  0001 \tcost =  1.001210188\n",
      "Epoch:  0011 \tcost =  0.211217490\n"
     ]
    }
   ],
   "source": [
    "training_epochs = 15\n",
    "batch_size = 100\n",
    "\n",
    "sess = tf.Session()\n",
    "summary = tf.summary.merge([sig_W4_hist, sig_b4_hist, sig_hypothesis_hist, sig_cost_summ])\n",
    "train_writer = tf.summary.FileWriter('./logs/MNIST_sigDNN', sess.graph)\n",
    "sess.run(tf.global_variables_initializer())\n",
    "\n",
    "\n",
    "global_step = 0\n",
    "for epoch in range(training_epochs):\n",
    "    avg_cost = 0\n",
    "    total_batch = int(mnist.train.num_examples / batch_size)\n",
    "    \n",
    "    for i in range(total_batch):\n",
    "        batch_xs, batch_ys = mnist.train.next_batch(batch_size)\n",
    "        s, c, _ = sess.run([summary, cost, optimizer], feed_dict={X: batch_xs, Y: batch_ys})\n",
    "        train_writer.add_summary(s, global_step=global_step)\n",
    "        avg_cost += c / total_batch\n",
    "        global_step += 1\n",
    "        \n",
    "    if epoch % 10 == 0:\n",
    "        print('Epoch: ', '%04d' % (epoch + 1), '\\tcost = ', '{:.9f}'.format(avg_cost))"
   ]
  },
  {
   "cell_type": "code",
   "execution_count": 113,
   "metadata": {},
   "outputs": [
    {
     "name": "stdout",
     "output_type": "stream",
     "text": [
      "Accuracy:  0.9282\n"
     ]
    }
   ],
   "source": [
    "print(\"Accuracy: \", accuracy.eval(session=sess,\n",
    "                                 feed_dict={X: mnist.test.images, Y: mnist.test.labels}))"
   ]
  },
  {
   "cell_type": "code",
   "execution_count": 114,
   "metadata": {},
   "outputs": [
    {
     "name": "stdout",
     "output_type": "stream",
     "text": [
      "Label:  [4]\n",
      "Prediction:  [4]\n",
      "Result:  [ True]\n"
     ]
    },
    {
     "data": {
      "image/png": "[encoded data removed]",
      "text/plain": [
       "<matplotlib.figure.Figure at 0x11a825780>"
      ]
     },
     "metadata": {},
     "output_type": "display_data"
    }
   ],
   "source": [
    "import matplotlib.pyplot as plt\n",
    "import random\n",
    "\n",
    "r = random.randint(0, mnist.test.num_examples - 1)\n",
    "print(\"Label: \", sess.run(tf.argmax(mnist.test.labels[r:r+1], 1)))\n",
    "print(\"Prediction: \", sess.run(tf.argmax(hypothesis, 1),\n",
    "                              feed_dict={X: mnist.test.images[r:r+1]}))\n",
    "print(\"Result: \", sess.run(tf.equal(sess.run(tf.argmax(mnist.test.labels[r:r+1], 1)), sess.run(tf.argmax(hypothesis, 1),\n",
    "                              feed_dict={X: mnist.test.images[r:r+1]}))))\n",
    "plt.imshow(mnist.test.images[r:r+1].reshape(28, 28), cmap='Greys', interpolation='nearest')\n",
    "plt.show()"
   ]
  },
  {
   "cell_type": "markdown",
   "metadata": {},
   "source": [
    "### DNN/ReLU - fail"
   ]
  },
  {
   "cell_type": "code",
   "execution_count": 147,
   "metadata": {},
   "outputs": [
    {
     "name": "stdout",
     "output_type": "stream",
     "text": [
      "Extracting MNIST_data/train-images-idx3-ubyte.gz\n",
      "Extracting MNIST_data/train-labels-idx1-ubyte.gz\n",
      "Extracting MNIST_data/t10k-images-idx3-ubyte.gz\n",
      "Extracting MNIST_data/t10k-labels-idx1-ubyte.gz\n"
     ]
    }
   ],
   "source": [
    "nb_classes = 10\n",
    "neurons = 100\n",
    "\n",
    "mnist = input_data.read_data_sets(\"MNIST_data/\", one_hot=True)\n",
    "\n",
    "X = tf.placeholder(tf.float32, [None, 784])\n",
    "Y = tf.placeholder(tf.float32, [None, nb_classes])\n",
    "\n",
    "W1 = tf.Variable(tf.random_normal([784, neurons]), name='weight1')\n",
    "b1 = tf.Variable(tf.random_normal([neurons]), name='bias1')\n",
    "logits1 = tf.matmul(X, W1) + b1\n",
    "layer1 = tf.nn.relu(logits1)\n",
    "\n",
    "W2 = tf.Variable(tf.random_normal([neurons, neurons]), name='weight2')\n",
    "b2 = tf.Variable(tf.random_normal([neurons]), name='bias3')\n",
    "logits2 = tf.matmul(layer1, W2) + b2\n",
    "layer2 = tf.nn.relu(logits2)\n",
    "\n",
    "W3 = tf.Variable(tf.random_normal([neurons, neurons]), name='weight3')\n",
    "b3 = tf.Variable(tf.random_normal([neurons]), name='bias3')\n",
    "logits3 = tf.matmul(layer2, W3) + b3\n",
    "layer3 = tf.nn.relu(logits3)\n",
    "\n",
    "\n",
    "#W4 = tf.Variable(tf.random_normal([neurons, neurons]), name='weight4')\n",
    "W4 = tf.Variable(tf.random_normal([neurons, nb_classes]), name='weight4')\n",
    "#b4 = tf.Variable(tf.random_normal([neurons]), name='bias4')\n",
    "b4 = tf.Variable(tf.random_normal([nb_classes]), name='bias4')\n",
    "logits4 = tf.matmul(layer3, W4) + b4\n",
    "#layer4 = tf.nn.relu(logits4)\n",
    "hypothesis = logits4\n",
    "'''\n",
    "W5 = tf.Variable(tf.random_normal([neurons, neurons]), name='weight5')\n",
    "b5 = tf.Variable(tf.random_normal([neurons]), name='bias5')\n",
    "logits5 = tf.matmul(layer4, W5) + b5\n",
    "layer5 = tf.nn.relu(logits5)\n",
    "\n",
    "W6 = tf.Variable(tf.random_normal([neurons, neurons]), name='weight6')\n",
    "b6 = tf.Variable(tf.random_normal([neurons]), name='bias6')\n",
    "logits6 = tf.matmul(layer4, W5) + b5\n",
    "layer6 = tf.nn.relu(logits5)\n",
    "\n",
    "W7 = tf.Variable(tf.random_normal([neurons, neurons]), name='weight7')\n",
    "b7 = tf.Variable(tf.random_normal([neurons]), name='bias7')\n",
    "logits7 = tf.matmul(layer5, W6) + b6\n",
    "layer7 = tf.nn.relu(logits6)\n",
    "\n",
    "W8 = tf.Variable(tf.random_normal([neurons, neurons]), name='weight8')\n",
    "b8 = tf.Variable(tf.random_normal([neurons]), name='bias8')\n",
    "logits8 = tf.matmul(layer6, W7) + b7\n",
    "layer8 = tf.nn.relu(logits7)\n",
    "\n",
    "W9 = tf.Variable(tf.random_normal([neurons, neurons]), name='weight9')\n",
    "b9 = tf.Variable(tf.random_normal([neurons]), name='bias9')\n",
    "logits9 = tf.matmul(layer8, W9) + b9\n",
    "layer9 = tf.nn.relu(logits9)\n",
    "\n",
    "W10 = tf.Variable(tf.random_normal([neurons, nb_classes]), name='weight10')\n",
    "b10 = tf.Variable(tf.random_normal([nb_classes]), name='bias10')\n",
    "logits10 = tf.matmul(layer9, W10) + b10\n",
    "hypothesis = logits10\n",
    "'''\n",
    "\n",
    "\n",
    "#relu_W4_hist = tf.summary.histogram(\"W4\", W4)\n",
    "#relu_b4_hist = tf.summary.histogram(\"b4\", b4)\n",
    "#relu_hypothesis_hist = tf.summary.histogram(\"hypothesis\", hypothesis)\n",
    "\n",
    "cost_i = tf.nn.softmax_cross_entropy_with_logits(logits=hypothesis, \n",
    "                                                labels=Y)\n",
    "cost = tf.reduce_mean(cost_i)\n",
    "relu_cost_summ = tf.summary.scalar(\"cost\", cost)\n",
    "\n",
    "optimizer = tf.train.AdamOptimizer(learning_rate=0.1).minimize(cost)\n",
    "\n",
    "is_correct = tf.equal(tf.arg_max(hypothesis, 1), tf.arg_max(Y, 1))\n",
    "\n",
    "accuracy = tf.reduce_mean(tf.cast(is_correct, tf.float32))"
   ]
  },
  {
   "cell_type": "code",
   "execution_count": null,
   "metadata": {},
   "outputs": [
    {
     "name": "stdout",
     "output_type": "stream",
     "text": [
      "Epoch:  0001 \tcost =  81.246773287\n",
      "Epoch:  0011 \tcost =  0.729211349\n",
      "Epoch:  0021 \tcost =  1.908647899\n",
      "Epoch:  0031 \tcost =  1.848427754\n",
      "Epoch:  0041 \tcost =  1.847590165\n",
      "Epoch:  0051 \tcost =  1.845671417\n",
      "Epoch:  0061 \tcost =  1.845008698\n",
      "Epoch:  0071 \tcost =  1.847287672\n"
     ]
    }
   ],
   "source": [
    "training_epochs = 150\n",
    "batch_size = 100\n",
    "\n",
    "sess = tf.Session()\n",
    "summary = tf.summary.merge([relu_cost_summ])\n",
    "train_writer = tf.summary.FileWriter('./logs/MNIST_reluDNN', sess.graph)\n",
    "sess.run(tf.global_variables_initializer())\n",
    "\n",
    "\n",
    "global_step = 0\n",
    "for epoch in range(training_epochs):\n",
    "    avg_cost = 0\n",
    "    total_batch = int(mnist.train.num_examples / batch_size)\n",
    "    \n",
    "    for i in range(total_batch):\n",
    "        batch_xs, batch_ys = mnist.train.next_batch(batch_size)\n",
    "        s, c, _ = sess.run([summary, cost, optimizer], feed_dict={X: batch_xs, Y: batch_ys})\n",
    "        train_writer.add_summary(s, global_step=global_step)\n",
    "        avg_cost += c / total_batch\n",
    "        global_step += 1\n",
    "        \n",
    "    if epoch % 10 == 0:\n",
    "        print('Epoch: ', '%04d' % (epoch + 1), '\\tcost = ', '{:.9f}'.format(avg_cost))"
   ]
  },
  {
   "cell_type": "code",
   "execution_count": null,
   "metadata": {
    "collapsed": true
   },
   "outputs": [],
   "source": [
    "print(\"Accuracy: \", accuracy.eval(session=sess,\n",
    "                                 feed_dict={X: mnist.test.images, Y: mnist.test.labels}))"
   ]
  },
  {
   "cell_type": "code",
   "execution_count": null,
   "metadata": {
    "collapsed": true
   },
   "outputs": [],
   "source": [
    "import matplotlib.pyplot as plt\n",
    "import random\n",
    "\n",
    "r = random.randint(0, mnist.test.num_examples - 1)\n",
    "print(\"Label: \", sess.run(tf.argmax(mnist.test.labels[r:r+1], 1)))\n",
    "print(\"Prediction: \", sess.run(tf.argmax(hypothesis, 1),\n",
    "                              feed_dict={X: mnist.test.images[r:r+1]}))\n",
    "print(\"Result: \", sess.run(tf.equal(sess.run(tf.argmax(mnist.test.labels[r:r+1], 1)), sess.run(tf.argmax(hypothesis, 1),\n",
    "                              feed_dict={X: mnist.test.images[r:r+1]}))))\n",
    "plt.imshow(mnist.test.images[r:r+1].reshape(28, 28), cmap='Greys', interpolation='nearest')\n",
    "plt.show()"
   ]
  },
  {
   "cell_type": "code",
   "execution_count": null,
   "metadata": {
    "collapsed": true
   },
   "outputs": [],
   "source": []
  }
 ],
 "metadata": {
  "kernelspec": {
   "display_name": "Python 3",
   "language": "python",
   "name": "python3"
  },
  "language_info": {
   "codemirror_mode": {
    "name": "ipython",
    "version": 3
   },
   "file_extension": ".py",
   "mimetype": "text/x-python",
   "name": "python",
   "nbconvert_exporter": "python",
   "pygments_lexer": "ipython3",
   "version": "3.6.1"
  }
 },
 "nbformat": 4,
 "nbformat_minor": 2
}
