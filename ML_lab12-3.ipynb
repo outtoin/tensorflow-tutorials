{
 "cells": [
  {
   "cell_type": "code",
   "execution_count": 1,
   "metadata": {
    "collapsed": true
   },
   "outputs": [],
   "source": [
    "import tensorflow as tf\n",
    "import numpy as np\n",
    "from tqdm import tqdm_notebook as tqdm"
   ]
  },
  {
   "cell_type": "code",
   "execution_count": 14,
   "metadata": {
    "collapsed": true
   },
   "outputs": [],
   "source": [
    "sample = \" if you want to build a ship, don't drum up people together to collect wood and don't assign them tasks and work, but rather teach them to log for the endless immensity of the sea\"\n",
    "\n",
    "idx2char = list(set(sample))\n",
    "char2idx = {c: i for i, c in enumerate(idx2char)}\n",
    "\n",
    "dic_size = len(char2idx)  # RNN input size (one hot size)\n",
    "hidden_size = len(char2idx)  # RNN output size\n",
    "num_classes = len(char2idx)  # final output size (RNN or softmax, etc.)\n",
    "batch_size = 1  # one sample data, one batch\n",
    "sequence_length = len(sample) - 1  # number of lstm rollings (unit #)\n",
    "learning_rate = 0.1\n",
    "\n",
    "\n",
    "sample_idx = [char2idx[c] for c in sample]\n",
    "\n",
    "x_data = [sample_idx[:-1]]\n",
    "y_data = [sample_idx[1:]]\n",
    "\n",
    "X = tf.placeholder(tf.int32, [None, sequence_length])\n",
    "Y = tf.placeholder(tf.int32, [None, sequence_length])\n",
    "\n",
    "x_one_hot = tf.one_hot(X, num_classes)"
   ]
  },
  {
   "cell_type": "code",
   "execution_count": 16,
   "metadata": {},
   "outputs": [],
   "source": [
    "with tf.variable_scope(\"cell2\", reuse=None) as scope:\n",
    "    cell = tf.contrib.rnn.BasicLSTMCell(\n",
    "        num_units=hidden_size, state_is_tuple=True)\n",
    "    initial_state = cell.zero_state(batch_size, tf.float32)\n",
    "    outputs, _states = tf.nn.dynamic_rnn(\n",
    "        cell, x_one_hot, initial_state=initial_state, dtype=tf.float32)\n",
    "\n",
    "\n",
    "    X_for_fc = tf.reshape(outputs, [-1, hidden_size])\n",
    "    outputs = tf.contrib.layers.fully_connected(X_for_fc, num_classes, activation_fn=None)\n",
    "\n",
    "    # reshape out for sequence_loss\n",
    "    outputs = tf.reshape(outputs, [batch_size, sequence_length, num_classes])\n",
    "\n",
    "\n",
    "weights = tf.ones([batch_size, sequence_length])\n",
    "sequence_loss = tf.contrib.seq2seq.sequence_loss(logits=outputs, targets=Y, weights=weights)\n",
    "loss = tf.reduce_mean(sequence_loss)\n",
    "optimizer = tf.train.AdamOptimizer(learning_rate=learning_rate).minimize(loss)\n",
    "\n",
    "prediction = tf.argmax(outputs, axis=2)"
   ]
  },
  {
   "cell_type": "code",
   "execution_count": 13,
   "metadata": {},
   "outputs": [
    {
     "data": {
      "application/vnd.jupyter.widget-view+json": {
       "model_id": "94d3abf65f7943488df6a63929cd6c1b"
      }
     },
     "metadata": {},
     "output_type": "display_data"
    },
    {
     "name": "stdout",
     "output_type": "stream",
     "text": [
      "0 loss: 2.30972 \tPrediction:                \n",
      "1 loss: 2.14673 \tPrediction:                \n",
      "2 loss: 2.04982 \tPrediction:  o  ou       oo\n",
      "3 loss: 1.89593 \tPrediction:  o  ou       ou\n",
      "4 loss: 1.71309 \tPrediction:  o  ou       ou\n",
      "5 loss: 1.48897 \tPrediction: yo you w    you\n",
      "6 loss: 1.24397 \tPrediction: yo you w n  you\n",
      "7 loss: 0.99313 \tPrediction: yo you want you\n",
      "8 loss: 0.772934 \tPrediction: yf you want you\n",
      "9 loss: 0.578643 \tPrediction: yf you want you\n",
      "10 loss: 0.425183 \tPrediction: if you want you\n",
      "11 loss: 0.312506 \tPrediction: if you want you\n",
      "12 loss: 0.232103 \tPrediction: if you want you\n",
      "13 loss: 0.175003 \tPrediction: if you want you\n",
      "14 loss: 0.130937 \tPrediction: if you want you\n",
      "15 loss: 0.0962018 \tPrediction: if you want you\n",
      "16 loss: 0.0695674 \tPrediction: if you want you\n",
      "17 loss: 0.0498363 \tPrediction: if you want you\n",
      "18 loss: 0.0355209 \tPrediction: if you want you\n",
      "19 loss: 0.0252949 \tPrediction: if you want you\n",
      "20 loss: 0.0181505 \tPrediction: if you want you\n",
      "21 loss: 0.0132617 \tPrediction: if you want you\n",
      "22 loss: 0.00994067 \tPrediction: if you want you\n",
      "23 loss: 0.00766529 \tPrediction: if you want you\n",
      "24 loss: 0.00607566 \tPrediction: if you want you\n",
      "25 loss: 0.00493786 \tPrediction: if you want you\n",
      "26 loss: 0.00410271 \tPrediction: if you want you\n",
      "27 loss: 0.00347462 \tPrediction: if you want you\n",
      "28 loss: 0.00299134 \tPrediction: if you want you\n",
      "29 loss: 0.00261157 \tPrediction: if you want you\n",
      "30 loss: 0.00230723 \tPrediction: if you want you\n",
      "31 loss: 0.00205907 \tPrediction: if you want you\n",
      "32 loss: 0.0018535 \tPrediction: if you want you\n",
      "33 loss: 0.00168079 \tPrediction: if you want you\n",
      "34 loss: 0.00153396 \tPrediction: if you want you\n",
      "35 loss: 0.00140775 \tPrediction: if you want you\n",
      "36 loss: 0.0012983 \tPrediction: if you want you\n",
      "37 loss: 0.00120267 \tPrediction: if you want you\n",
      "38 loss: 0.0011185 \tPrediction: if you want you\n",
      "39 loss: 0.001044 \tPrediction: if you want you\n",
      "40 loss: 0.000977736 \tPrediction: if you want you\n",
      "41 loss: 0.00091866 \tPrediction: if you want you\n",
      "42 loss: 0.000865683 \tPrediction: if you want you\n",
      "43 loss: 0.000818099 \tPrediction: if you want you\n",
      "44 loss: 0.000775203 \tPrediction: if you want you\n",
      "45 loss: 0.00073656 \tPrediction: if you want you\n",
      "46 loss: 0.000701558 \tPrediction: if you want you\n",
      "47 loss: 0.000669873 \tPrediction: if you want you\n",
      "48 loss: 0.000641156 \tPrediction: if you want you\n",
      "49 loss: 0.00061505 \tPrediction: if you want you\n",
      "\n"
     ]
    }
   ],
   "source": [
    "with tf.Session() as sess:\n",
    "    sess.run(tf.global_variables_initializer())\n",
    "    \n",
    "    for i in tqdm(range(50), leave=True):\n",
    "        l, _ = sess.run([loss, optimizer], feed_dict={X: x_data, Y: y_data})\n",
    "        result = sess.run(prediction, feed_dict={X: x_data})\n",
    "\n",
    "        # print char using dic\n",
    "        result_str = [idx2char[c] for c in np.squeeze(result)]\n",
    "        \n",
    "        if i % 1 == 0:\n",
    "            print(i, \"loss:\", l, \"\\tPrediction:\", ''.join(result_str))"
   ]
  },
  {
   "cell_type": "code",
   "execution_count": null,
   "metadata": {
    "collapsed": true
   },
   "outputs": [],
   "source": []
  }
 ],
 "metadata": {
  "kernelspec": {
   "display_name": "Python 3",
   "language": "python",
   "name": "python3"
  },
  "language_info": {
   "codemirror_mode": {
    "name": "ipython",
    "version": 3
   },
   "file_extension": ".py",
   "mimetype": "text/x-python",
   "name": "python",
   "nbconvert_exporter": "python",
   "pygments_lexer": "ipython3",
   "version": "3.5.2"
  }
 },
 "nbformat": 4,
 "nbformat_minor": 2
}
