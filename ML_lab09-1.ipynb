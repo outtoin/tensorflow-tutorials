{
 "cells": [
  {
   "cell_type": "code",
   "execution_count": 9,
   "metadata": {
    "collapsed": true
   },
   "outputs": [],
   "source": [
    "import tensorflow as tf\n",
    "import numpy as np\n",
    "from tqdm import tqdm_notebook as tqdm"
   ]
  },
  {
   "cell_type": "code",
   "execution_count": 10,
   "metadata": {
    "collapsed": true
   },
   "outputs": [],
   "source": [
    "x_data = np.array([[0, 0], [0, 1], [1, 0], [1, 1]], dtype=np.float32)\n",
    "y_data = np.array([[0], [1], [1], [0]])\n",
    "\n",
    "X = tf.placeholder(tf.float32)\n",
    "Y = tf.placeholder(tf.float32)\n",
    "W = tf.Variable(tf.random_normal([2, 1]), name='weight')\n",
    "b = tf.Variable(tf.random_normal([1]), name='bias')\n",
    "\n",
    "hypothesis = tf.sigmoid(tf.matmul(X, W) + b)\n",
    "\n",
    "cost = -tf.reduce_mean(Y * tf.log(hypothesis) + (1 - Y) * tf.log(1 - hypothesis))\n",
    "optimizer = tf.train.GradientDescentOptimizer(learning_rate=0.1).minimize(cost)\n",
    "\n",
    "predicated = tf.cast(hypothesis > 0.5, dtype=tf.float32)\n",
    "accuracy = tf.reduce_mean(tf.cast(tf.equal(predicated, Y), dtype=tf.float32))"
   ]
  },
  {
   "cell_type": "code",
   "execution_count": 11,
   "metadata": {},
   "outputs": [
    {
     "data": {
      "application/vnd.jupyter.widget-view+json": {
       "model_id": "c706beea778d4f6b85eb8548fdbd7660"
      }
     },
     "metadata": {},
     "output_type": "display_data"
    },
    {
     "name": "stdout",
     "output_type": "stream",
     "text": [
      "0 1.39644 [[ 0.83428025]\n",
      " [ 3.14078951]]\n",
      "1000 0.693182 [[ 0.02005617]\n",
      " [ 0.02513438]]\n",
      "2000 0.693147 [[ 0.0004387 ]\n",
      " [ 0.00044831]]\n",
      "3000 0.693147 [[  8.68603274e-06]\n",
      " [  8.70282292e-06]]\n",
      "4000 0.693147 [[  1.61072137e-07]\n",
      " [  1.59979351e-07]]\n",
      "5000 0.693147 [[  1.32759823e-07]\n",
      " [  1.31667036e-07]]\n",
      "6000 0.693147 [[  1.32759823e-07]\n",
      " [  1.31667036e-07]]\n",
      "7000 0.693147 [[  1.32759823e-07]\n",
      " [  1.31667036e-07]]\n",
      "8000 0.693147 [[  1.32759823e-07]\n",
      " [  1.31667036e-07]]\n",
      "9000 0.693147 [[  1.32759823e-07]\n",
      " [  1.31667036e-07]]\n",
      "10000 0.693147 [[  1.32759823e-07]\n",
      " [  1.31667036e-07]]\n",
      "\n",
      "\n",
      "Hypothesis:  [[ 0.5]\n",
      " [ 0.5]\n",
      " [ 0.5]\n",
      " [ 0.5]] \n",
      "Correct:  [[ 0.]\n",
      " [ 0.]\n",
      " [ 0.]\n",
      " [ 0.]] \n",
      "Accuracy:  0.5\n"
     ]
    }
   ],
   "source": [
    "sess = tf.Session()\n",
    "sess.run(tf.global_variables_initializer())\n",
    "\n",
    "feed = {X: x_data, Y: y_data}\n",
    "for step in tqdm(range(10001)):\n",
    "    sess.run(optimizer, feed_dict=feed)\n",
    "    \n",
    "    if step % 1000 == 0:\n",
    "        print(step, sess.run(cost, feed_dict=feed), sess.run(W))\n",
    "        \n",
    "h, c, a = sess.run([hypothesis, predicated, accuracy], feed_dict=feed)\n",
    "print(\"\\nHypothesis: \", h, \"\\nCorrect: \", c, \"\\nAccuracy: \", a)"
   ]
  },
  {
   "cell_type": "markdown",
   "metadata": {},
   "source": [
    "## Neural Net"
   ]
  },
  {
   "cell_type": "code",
   "execution_count": 9,
   "metadata": {
    "collapsed": true
   },
   "outputs": [],
   "source": [
    "layer1_classes = 100\n",
    "W1 = tf.Variable(tf.random_normal([2, layer1_classes]), name='weight1')\n",
    "b1 = tf.Variable(tf.random_normal([layer1_classes]), name='bias1')\n",
    "layer1 = tf.sigmoid(tf.matmul(X, W1) + b1)\n",
    "\n",
    "W2 = tf.Variable(tf.random_normal([layer1_classes, 1]), name='weight2')\n",
    "b2 = tf.Variable(tf.random_normal([1]), name='bias2')\n",
    "hypothesis = tf.sigmoid(tf.matmul(layer1, W2) + b2)\n",
    "\n",
    "cost = -tf.reduce_mean(Y * tf.log(hypothesis) + (1 - Y) * tf.log(1 - hypothesis))\n",
    "optimizer = tf.train.GradientDescentOptimizer(learning_rate=0.1).minimize(cost)\n",
    "\n",
    "predicated = tf.cast(hypothesis > 0.5, dtype=tf.float32)\n",
    "accuracy = tf.reduce_mean(tf.cast(tf.equal(predicated, Y), dtype=tf.float32))"
   ]
  },
  {
   "cell_type": "code",
   "execution_count": 10,
   "metadata": {},
   "outputs": [
    {
     "name": "stdout",
     "output_type": "stream",
     "text": [
      "0 1.2083 [[ 0.74102783]\n",
      " [ 0.47983772]]\n",
      "1000 0.0782987 [[ 0.74102783]\n",
      " [ 0.47983772]]\n",
      "2000 0.0283508 [[ 0.74102783]\n",
      " [ 0.47983772]]\n",
      "3000 0.0158683 [[ 0.74102783]\n",
      " [ 0.47983772]]\n",
      "4000 0.0106522 [[ 0.74102783]\n",
      " [ 0.47983772]]\n",
      "5000 0.00787963 [[ 0.74102783]\n",
      " [ 0.47983772]]\n",
      "6000 0.00618827 [[ 0.74102783]\n",
      " [ 0.47983772]]\n",
      "7000 0.00506041 [[ 0.74102783]\n",
      " [ 0.47983772]]\n",
      "8000 0.00426006 [[ 0.74102783]\n",
      " [ 0.47983772]]\n",
      "9000 0.00366555 [[ 0.74102783]\n",
      " [ 0.47983772]]\n",
      "10000 0.00320813 [[ 0.74102783]\n",
      " [ 0.47983772]]\n",
      "\n",
      "Hypothesis:  [[ 0.00279703]\n",
      " [ 0.9967469 ]\n",
      " [ 0.99685043]\n",
      " [ 0.00361208]] \n",
      "Correct:  [[ 0.]\n",
      " [ 1.]\n",
      " [ 1.]\n",
      " [ 0.]] \n",
      "Accuracy:  1.0\n"
     ]
    }
   ],
   "source": [
    "sess = tf.Session()\n",
    "sess.run(tf.global_variables_initializer())\n",
    "\n",
    "feed = {X: x_data, Y: y_data}\n",
    "for step in range(10001):\n",
    "    sess.run(optimizer, feed_dict=feed)\n",
    "    \n",
    "    if step % 1000 == 0:\n",
    "        print(step, sess.run(cost, feed_dict=feed), sess.run(W))\n",
    "        \n",
    "h, c, a = sess.run([hypothesis, predicated, accuracy], feed_dict=feed)\n",
    "print(\"\\nHypothesis: \", h, \"\\nCorrect: \", c, \"\\nAccuracy: \", a)"
   ]
  },
  {
   "cell_type": "code",
   "execution_count": 12,
   "metadata": {
    "collapsed": true
   },
   "outputs": [],
   "source": [
    "layer_classes = 100\n",
    "W1 = tf.Variable(tf.random_normal([2, layer_classes]), name='weight1')\n",
    "b1 = tf.Variable(tf.random_normal([layer_classes]), name='bias1')\n",
    "layer1 = tf.sigmoid(tf.matmul(X, W1) + b1)\n",
    "\n",
    "W2 = tf.Variable(tf.random_normal([layer_classes, layer_classes]), name='weight2')\n",
    "b2 = tf.Variable(tf.random_normal([layer_classes]), name='bias2')\n",
    "layer2 = tf.sigmoid(tf.matmul(layer1, W2) + b2)\n",
    "\n",
    "W3 = tf.Variable(tf.random_normal([layer_classes, layer_classes]), name='weight3')\n",
    "b3 = tf.Variable(tf.random_normal([layer_classes]), name='bias3')\n",
    "layer3 = tf.sigmoid(tf.matmul(layer2, W3) + b3)\n",
    "\n",
    "W4 = tf.Variable(tf.random_normal([layer_classes, 1]), name='weight4')\n",
    "b4 = tf.Variable(tf.random_normal([1]), name='bias4')\n",
    "hypothesis = tf.sigmoid(tf.matmul(layer3, W4) + b4)\n",
    "\n",
    "cost = -tf.reduce_mean(Y * tf.log(hypothesis) + (1 - Y) * tf.log(1 - hypothesis))\n",
    "optimizer = tf.train.GradientDescentOptimizer(learning_rate=0.1).minimize(cost)\n",
    "\n",
    "predicated = tf.cast(hypothesis > 0.5, dtype=tf.float32)\n",
    "accuracy = tf.reduce_mean(tf.cast(tf.equal(predicated, Y), dtype=tf.float32))"
   ]
  },
  {
   "cell_type": "code",
   "execution_count": 13,
   "metadata": {},
   "outputs": [
    {
     "name": "stdout",
     "output_type": "stream",
     "text": [
      "0 1.07104 [[-0.00702888]\n",
      " [ 1.40163743]]\n",
      "1000 0.00422555 [[-0.00702888]\n",
      " [ 1.40163743]]\n",
      "2000 0.00202643 [[-0.00702888]\n",
      " [ 1.40163743]]\n",
      "3000 0.00125969 [[-0.00702888]\n",
      " [ 1.40163743]]\n",
      "4000 0.00089987 [[-0.00702888]\n",
      " [ 1.40163743]]\n",
      "5000 0.000699333 [[-0.00702888]\n",
      " [ 1.40163743]]\n",
      "6000 0.000571489 [[-0.00702888]\n",
      " [ 1.40163743]]\n",
      "7000 0.000482363 [[-0.00702888]\n",
      " [ 1.40163743]]\n",
      "8000 0.000416545 [[-0.00702888]\n",
      " [ 1.40163743]]\n",
      "9000 0.000365876 [[-0.00702888]\n",
      " [ 1.40163743]]\n",
      "10000 0.000325614 [[-0.00702888]\n",
      " [ 1.40163743]]\n",
      "\n",
      "Hypothesis:  [[  3.56375589e-04]\n",
      " [  9.99664664e-01]\n",
      " [  9.99677777e-01]\n",
      " [  2.88329495e-04]] \n",
      "Correct:  [[ 0.]\n",
      " [ 1.]\n",
      " [ 1.]\n",
      " [ 0.]] \n",
      "Accuracy:  1.0\n"
     ]
    }
   ],
   "source": [
    "sess = tf.Session()\n",
    "sess.run(tf.global_variables_initializer())\n",
    "\n",
    "feed = {X: x_data, Y: y_data}\n",
    "for step in range(10001):\n",
    "    sess.run(optimizer, feed_dict=feed)\n",
    "    \n",
    "    if step % 1000 == 0:\n",
    "        print(step, sess.run(cost, feed_dict=feed), sess.run(W))\n",
    "        \n",
    "h, c, a = sess.run([hypothesis, predicated, accuracy], feed_dict=feed)\n",
    "print(\"\\nHypothesis: \", h, \"\\nCorrect: \", c, \"\\nAccuracy: \", a)"
   ]
  }
 ],
 "metadata": {
  "kernelspec": {
   "display_name": "Python 3",
   "language": "python",
   "name": "python3"
  },
  "language_info": {
   "codemirror_mode": {
    "name": "ipython",
    "version": 3
   },
   "file_extension": ".py",
   "mimetype": "text/x-python",
   "name": "python",
   "nbconvert_exporter": "python",
   "pygments_lexer": "ipython3",
   "version": "3.5.2"
  }
 },
 "nbformat": 4,
 "nbformat_minor": 2
}
